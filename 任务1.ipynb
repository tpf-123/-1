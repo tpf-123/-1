{
 "cells": [
  {
   "cell_type": "code",
   "execution_count": null,
   "id": "cf58daa1-ddfe-4018-b3fb-f9cb6bf04206",
   "metadata": {},
   "outputs": [],
   "source": [
    "data_1 = query_iwencai('成交额排序，前3个交易日区间涨幅在-10%和15%之间，10日均线斜率大于-5，前三个交易日区间涨幅，后一个交易日最大涨幅,涨跌幅')\n",
    "data_1.to_excel('任务一.xlsx',sheet_name = 'Sheet1')"
   ]
  },
  {
   "cell_type": "code",
   "execution_count": null,
   "id": "bef5bdc9-c8cd-48cb-b4bf-1fa1debaa69e",
   "metadata": {},
   "outputs": [],
   "source": []
  }
 ],
 "metadata": {
  "kernelspec": {
   "display_name": "pytorch-gpu",
   "language": "python",
   "name": "pytorch-gpu"
  },
  "language_info": {
   "codemirror_mode": {
    "name": "ipython",
    "version": 3
   },
   "file_extension": ".py",
   "mimetype": "text/x-python",
   "name": "python",
   "nbconvert_exporter": "python",
   "pygments_lexer": "ipython3",
   "version": "3.9.21"
  }
 },
 "nbformat": 4,
 "nbformat_minor": 5
}
